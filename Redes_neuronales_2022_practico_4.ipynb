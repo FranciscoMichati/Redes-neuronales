{
  "nbformat": 4,
  "nbformat_minor": 0,
  "metadata": {
    "colab": {
      "provenance": [],
      "collapsed_sections": [],
      "include_colab_link": true
    },
    "kernelspec": {
      "name": "python3",
      "display_name": "Python 3"
    },
    "language_info": {
      "name": "python"
    }
  },
  "cells": [
    {
      "cell_type": "markdown",
      "metadata": {
        "id": "view-in-github",
        "colab_type": "text"
      },
      "source": [
        "<a href=\"https://colab.research.google.com/github/FranciscoMichati/Redes-neuronales/blob/main/Redes_neuronales_2022_practico_4.ipynb\" target=\"_parent\"><img src=\"https://colab.research.google.com/assets/colab-badge.svg\" alt=\"Open In Colab\"/></a>"
      ]
    },
    {
      "cell_type": "markdown",
      "source": [
        "# Integración numérica de ODEs\n",
        "\n",
        "En este práctico introduciremos los métodos de **Euler** y de **RK4** (Runge-Kutta de orden 4) de integración numérica de Ecuaciones Diferenciales Ordinarias (ODEs).\n",
        "\n",
        "## **Ejercicio 1)** Importando librerías\n",
        "\n",
        "Importe las librerías `numpy` para operar con arrays, `scipy` para utilizar rutinas de algebra lineal y `matplotlib.pyplot` para graficar."
      ],
      "metadata": {
        "id": "NRYEofSD0xoF"
      }
    },
    {
      "cell_type": "code",
      "source": [
        "import numpy as np\n",
        "import scipy as sp\n",
        "import scipy.linalg as linalg\n",
        "import matplotlib.pyplot as plt"
      ],
      "metadata": {
        "id": "I8N3D_nU1_oT"
      },
      "execution_count": null,
      "outputs": []
    },
    {
      "cell_type": "markdown",
      "source": [
        "## **Ejercicio 2)** Integrador de **Euler**\n",
        "\n",
        "### Ecuaciones Diferenciales Ordinarias (ODEs)\n",
        "\n",
        "El comportamiento de un sistema dinámico se suele describir en términos de trayectorias. Una trayectoria es una función del tiempo \n",
        "\n",
        "\\begin{eqnarray}\n",
        "x:\\mathbb{R}\\ni t\\to x(t)\\in X\n",
        "\\end{eqnarray}\n",
        "\n",
        "en donde $x(t)\\in X$ representa el estado que exhibe el sistema al tiempo $t$ y $X$ es un espacio vectorial.\n",
        "Típicamente, $X=\\mathbb{R}^n$.\n",
        "\n",
        "Las trayectorias de un sistema dinámico suelen ser soluciones de una ecuación diferencial.\n",
        "Nosotros, nos enfocaremos en sistemas dinámicos caracterizados por Ecuaciones Diferenciales Ordinarias (ODEs).\n",
        "\n",
        "Decimos que una trayectoria $x:t\\to x(t)$ es su solución de una ODE caracterizada por una función \n",
        "\n",
        "\\begin{eqnarray}\n",
        "f: X,\\mathbb{R} \\ni x,t \\to f(x,t) \\in X\n",
        "\\end{eqnarray}\n",
        "\n",
        "cuando\n",
        "\n",
        "\\begin{eqnarray}\n",
        "x'(t) = f(x(t),t)\n",
        "\\end{eqnarray}\n",
        "\n",
        "para todo tiempo $t$ perteneciente a algún intervalo de tiempo $ T\\subseteq \\mathbb{R}$. Aquí, $x'(t)$ es la derivada con respecto al tiempo $t$ de la función $x:t\\to x(t)$ que representa la trayectoria.\n",
        "\n",
        "En una ODE, una trayectoria particular $x$ queda unívocamente determinada por el valor de $x(t)$ en algún tiempo específico. Típicamente, se considera una *condición incial* $x(a)$, y nos interesa computar el valor de $x(t)$ para todo $t\\in [a,b]$, i.e. conocer la trayectoria para todo tiempo entre un tiempo incial $a$ y un tiempo final $b$.\n",
        "\n",
        "### Métodos de integración numérica de ODEs\n",
        "\n",
        "Los métodos de integración de sistemas de Ecuaciones Diferenciales Ordinarias (ODEs) consisten, básicamente, de dos partes.\n",
        "\n",
        "* Un método de extrapolación que permita aproximar **un paso de integración**, i.e. aproximar $x(t+h)$ a partir de conocer $t$, $x(t)$ y $f$ para valores de $h\\in \\mathbb{R}$ suficientementes pequeños.\n",
        "\n",
        "* Un **integrador** de sucesivas aproximaciones $w_0$, $w_1$, ..., $w_k$ de los valores $x(a)$, $x(a+h)$, $x(a+2h)$, ..., $x(a+kh)=x(b)$ computadas secuencialmente a partir de un valor incial $w_0=x(a)$.\n",
        "\n",
        "Existen varios métodos de aproximar un paso de integración.\n",
        "En cambio, el integrador suele ser común a los diferentes métodos.\n",
        "\n",
        "### Método de Euler\n",
        "\n",
        "El método de Euler es, quizás, el más simple que existe.\n",
        "Esencialmente, consiste en aproximar de $x(t+h)$ utilizando $f(x,t)$ para calcular la extrapolación lineal \n",
        "\n",
        "\\begin{eqnarray}\n",
        "x(t+h) \n",
        "&=& \n",
        "x(t) + x'(t)h + x''(t)\\frac{h^2}{2} + ...\n",
        "\\\\\n",
        "&\\approx & \n",
        "x(t) + x'(t)h\n",
        "\\\\\n",
        "&=&\n",
        "x(t) + f(x(t),t)h\n",
        "\\end{eqnarray}\n",
        "\n",
        "para un valor de $h$ que sea relativamente pequeño.\n",
        "\n",
        "### Integrador\n",
        "\n",
        "Si $t_0,t_1,...,t_n$ son valores equiespaciados en el intervalo de tiempo $[a,b]$, entonces $t_j=a+jh$ para $j\\in \\{0,1,2,...,n\\}$ con $t_n=b$ y $h=(b-a)/n$.\n",
        "Luego, utilizando el método $m$ proveido por el usuario, se computan sucesivamente las aproximaciones\n",
        "\n",
        "\\begin{eqnarray}\n",
        "w_{i} &=& m(f,w_{i-1},t_{i-1},h)\n",
        "\\end{eqnarray}\n",
        "\n",
        "de los valores $x(t+ih)$ para $i=1,...,n$, partiendo de la condición inicial $w_0=x(t_0)=x(a)$.\n",
        "\n",
        "Por ejemplo, si el método proveido es el de Euler, las aproximaciones adoptan la forma\n",
        "\n",
        "\\begin{eqnarray}\n",
        "w_{i} &=& w_{i-1} + f(w_{i-1},t_{i-1})h\n",
        "\\end{eqnarray}\n",
        "\n",
        "**a)** Implemente una función de Python llamada `euler` que compute un paso de integración según el método de **Euler**. \n",
        "Dicha función debe tomar como argumentos:\n",
        "\n",
        "* La función $f:\\mathbb{R}^n,\\mathbb{} \\to \\mathbb{R}^n$ que caracterize el lado derecho de la ODE.\n",
        "\n",
        "* Un valor de $x \\in \\mathbb{R}^n$.\n",
        "\n",
        "* Un valor de $t \\in \\mathbb{R}$.\n",
        "\n",
        "* El paso de integración $h \\in \\mathbb{R}$.\n",
        "\n",
        "* Un vector de parámetros $p \\in \\mathbb{R}^m$.\n",
        "\n",
        "La función  `euler` debe retornar el lado derecho de la aproximación $x(t+h)\\approx x(t) + f(x(t),t)h$.\n",
        "\n",
        "**b)** Implemente una función de Python llamada `integrador_ode` que integre el cómputo de sucesivos pasos de integración.\n",
        "Dicha función debe tomar como argumentos:\n",
        "\n",
        "* Una función `m` que aproxime el paso de integración (ej. `euler`).\n",
        "\n",
        "* La función $f:\\mathbb{R}^n,\\mathbb{R} \\to \\mathbb{R}^n$.\n",
        "\n",
        "* La condición inicial $x_0=x(a)\\in \\mathbb{R}^n$.\n",
        "\n",
        "* El tiempo inciial $a\\in \\mathbb{R}$.\n",
        "\n",
        "* El tiempo final $b\\in \\mathbb{R}$.\n",
        "\n",
        "* El número $k\\in \\mathbb{N}$ de pasos de integración.\n",
        "\n",
        "* Un vector de parámetros $p \\in \\mathbb{R}^m$.\n",
        "\n",
        "* Y, opcionalmente, una *función condicionante* \n",
        "\\begin{eqnarray}\n",
        "c:\\mathbb{R}^n,\\mathbb{R},\\mathbb{R}^m\\ni x(t),t,p \\to c(x(t),t,p)\\in \\mathbb{R}^n\n",
        "\\end{eqnarray}\n",
        "que permita intervenir en el cómputo de la trayectoria cuando se desee.\n",
        "Veremos más adelante para que sirve esta función condicionante."
      ],
      "metadata": {
        "id": "NcaGEHAd10sb"
      }
    },
    {
      "cell_type": "code",
      "source": [
        "\n",
        "def euler(f,x,t,h,p):\n",
        "  return x+f(x,t,p)*h\n",
        "def integrador_ode(m,f,x0,ta,tb,k,p):\n",
        "\n",
        "  #m: método para calcular el siguiente paso (euler,rk4,etc)\n",
        "  #x0: condicion inicial R^n\n",
        "  #ta,tb tiempos inciales y finales\n",
        "  #k: número de pasos de integracion\n",
        "  #p: vector de parametros (R^n)\n",
        "  #c: funcion condicionante que no entiendo xd\n",
        "  #w: Aproximacion de la funcion con el metodo numerico\n",
        "  #n: dimension\n",
        "  n=len(x0)\n",
        "  h=(tb-ta)/k\n",
        "  w=np.zeros((n,k+1))\n",
        "  t=np.zeros((k+1))\n",
        "  t=np.arange(ta,tb+h,h)\n",
        "\n",
        "  w[:,0]=x0\n",
        "  for j in range(k):\n",
        "    w[:,j+1]=m(f,w[:,j],t[j],h,p) #Nuevo paso de la aproximacion\n",
        "    #w[:,j+1]=c(w[:,j+1],t[j+1],h,p) #Condicion sobre w (¿?)\n",
        "\n",
        "  return t,w\n",
        "  \n"
      ],
      "metadata": {
        "id": "amK5T3rZytyJ"
      },
      "execution_count": null,
      "outputs": []
    },
    {
      "cell_type": "markdown",
      "source": [
        "\n",
        "## **Ejercicio 3)** Crecimiento exponencial\n",
        "\n",
        "Considere la ODE\n",
        "\n",
        "\\begin{eqnarray}\n",
        "x'(t)\n",
        "&=&\n",
        "qx(t)\n",
        "\\end{eqnarray}\n",
        "\n",
        "donde $q$ es una constante positiva.\n",
        "\n",
        "**a)** Utilice el integrador ODE implementado en el ejercicio 2) para integrar la ODE arriba definida, a partir de la condición inicial $x(t=0)=1$ hasta el tiempo $t=3$, y para $q=1$. Utilice el paso de integración $h=0.1$.\n",
        "\n",
        "**b)** Grafique la solución numérica computada en el inciso anterior. Incluya en el gráfico la solución exacta que se deriva a continuación\n",
        "\n",
        "\\begin{eqnarray}\n",
        "x'(t)\n",
        "&=&\n",
        "qx(t)\n",
        "\\\\\n",
        "\\frac{dx}{dt}\n",
        "&=&\n",
        "qx\n",
        "\\\\\n",
        "\\frac{dx}{x}\n",
        "&=&\n",
        "qdt\n",
        "\\\\\n",
        "\\int_{x(0)}^{x(\\tau)}\n",
        "\\frac{dx}{x}\n",
        "&=&\n",
        "q\n",
        "\\int_0^{\\tau} dt\n",
        "\\\\\n",
        "\\ln(x(\\tau))-\\ln(x(0))\n",
        "&=&\n",
        "q\\tau\n",
        "\\\\\n",
        "\\ln(x(t))\n",
        "&=&\n",
        "qt\n",
        "+\n",
        "\\ln(x(0))\n",
        "\\\\\n",
        "x(t)\n",
        "&=&\n",
        "e^{\n",
        "qt\n",
        "+\n",
        "\\ln(x(0))\n",
        "}\n",
        "\\\\\n",
        "x(t)\n",
        "&=&\n",
        "e^{\\ln(x(0))}\n",
        "e^{qt}\n",
        "\\\\\n",
        "x(t)\n",
        "&=&\n",
        "x(0)\n",
        "e^{qt}\n",
        "\\end{eqnarray}\n",
        "\n",
        "**c)** Repita para $h=0.01$."
      ],
      "metadata": {
        "id": "yBKvIBvmr3Wb"
      }
    },
    {
      "cell_type": "code",
      "source": [
        "def f(x,t,p):\n",
        "  return p[0]*x\n",
        "h=0.01\n",
        "x0=np.array([1])\n",
        "ta,tb=0,3\n",
        "k=100\n",
        "p=np.array([1])\n",
        "\n",
        "t,sol=integrador_ode(euler,f,x0,ta,tb,k,p)\n",
        "def xanalitico(q,t):\n",
        "  return np.exp(q*t)\n",
        "analitico= xanalitico(t,p[0])\n",
        "plt.plot(t,sol[0])\n",
        "plt.plot(t,analitico,color='r')\n",
        "plt.show()\n"
      ],
      "metadata": {
        "id": "bw8CoeiAywQ5",
        "colab": {
          "base_uri": "https://localhost:8080/",
          "height": 265
        },
        "outputId": "0db57848-acdc-41b2-b380-c0ca25f92883"
      },
      "execution_count": null,
      "outputs": [
        {
          "output_type": "display_data",
          "data": {
            "text/plain": [
              "<Figure size 432x288 with 1 Axes>"
            ],
            "image/png": "[encoded data removed]"
          },
          "metadata": {
            "needs_background": "light"
          }
        }
      ]
    },
    {
      "cell_type": "markdown",
      "source": [
        "## **Ejercicio 4)** Decaimiento exponencial\n",
        "\n",
        "Considere la ODE\n",
        "\n",
        "\\begin{eqnarray}\n",
        "x'(t)\n",
        "&=&\n",
        "-qx(t)+r\n",
        "\\end{eqnarray}\n",
        "\n",
        "donde $q$ es una constante positiva y $r$ es una constante arbitraria.\n",
        "\n",
        "**a)** Use el integrador ODE con el método de Euler para encontrar una aproximación numérica de la ODE arriba especificada.\n",
        "Considere la condición inicial $x(0)=3$ e integre hasta $t=3$.\n",
        "Utilice el paso de integración $h=0.1$ y los valores de los parámetros $q=2$ y $r=3$.\n",
        "\n",
        "**b)** Grafique la trayectoria computada en el inciso anterior y, con el fin de comparar, grafique simultaneamente la correspondiente solución analítica derivada a continuación\n",
        "\n",
        "\\begin{eqnarray}\n",
        "\\frac{dx}{dt}\n",
        "&=&\n",
        "-qx+r\n",
        "\\\\\n",
        "-\\frac{1}{q}\\frac{du}{dt}\n",
        "&=&\n",
        "u,\n",
        "\\;\\;\\;\\;\n",
        "\\;\\;\\;\\;\n",
        "\\;\\;\\;\\;\n",
        "u=-qx+r\n",
        "\\\\\n",
        "\\frac{du}{dt}\n",
        "&=&\n",
        "-qu\n",
        "\\\\\n",
        "u(t)\n",
        "&=&\n",
        "u(0)e^{-qt}\n",
        "\\\\\n",
        "-qx(t)+r\n",
        "&=&\n",
        "(-qx(0)+r)e^{-qt}\n",
        "\\\\\n",
        "x(t)\n",
        "&=&\n",
        "(x(0)-r/q)e^{-qt}+r/q\n",
        "\\end{eqnarray}\n",
        "\n",
        "**c)** Repita para $h=0.01$.\n",
        "\n",
        "**d)** Repita para $x(0)=1$."
      ],
      "metadata": {
        "id": "TGYPvZmyzp7w"
      }
    },
    {
      "cell_type": "code",
      "source": [
        "def f(x,t,p):\n",
        "  q,r=p[0],p[1]\n",
        "  return -q*x+r\n",
        "h=0.01\n",
        "x0=np.array([3])\n",
        "ta,tb=0,3\n",
        "k=100\n",
        "q,r=2,3\n",
        "p=[q,r]\n",
        "\n",
        "t,sol=integrador_ode(euler,f,x0,ta,tb,k,p)\n",
        "\n",
        "def xanalitico(x0,p,t):\n",
        "  q,r=p[0],p[1]\n",
        "  aux=(x0-(r/q))*np.exp(-q*t) + (r/q)\n",
        "  return aux\n",
        "analitico= xanalitico(x0,p,t)\n",
        "\n",
        "plt.plot(t,sol[0])\n",
        "plt.plot(t,analitico,color='r')\n",
        "plt.show()\n"
      ],
      "metadata": {
        "id": "eJWkW3Q7yzqW",
        "colab": {
          "base_uri": "https://localhost:8080/",
          "height": 265
        },
        "outputId": "d04c2478-df39-4cf5-ac5b-f106873e838b"
      },
      "execution_count": null,
      "outputs": [
        {
          "output_type": "display_data",
          "data": {
            "text/plain": [
              "<Figure size 432x288 with 1 Axes>"
            ],
            "image/png": "[encoded data removed]"
          },
          "metadata": {
            "needs_background": "light"
          }
        }
      ]
    },
    {
      "cell_type": "markdown",
      "source": [
        "## **Ejercicio 5)** Ecuación Logística\n",
        "\n",
        "Considere la ODE\n",
        "\n",
        "\\begin{eqnarray}\n",
        "x'(t)\n",
        "&=&\n",
        "rx(t)(1-x/K)\n",
        "\\end{eqnarray}\n",
        "\n",
        "**a)** Integre numéricamente la anterior ODE utilizando el método de Euler, la condición inicial $x(0)=0.1$, hasta $t=5$, utilizando un paso de integración $h=0.1$, una tasa de reproducción $r=1$ y una capacidad de carga $K=1$.\n",
        "\n",
        "**b)** Grafique la solución computada en el inciso anterior, comparandola con la solución analítica que se deriva a continuación\n",
        "\n",
        "\\begin{eqnarray}\n",
        "\\frac{dx}{dt}\n",
        "&=&\n",
        "rx(1-x/K)\n",
        "\\\\\n",
        "\\frac{dx}{x(1-x/K)}\n",
        "&=&\n",
        "rdt\n",
        "\\\\\n",
        "\\int_{x(0)}^{x(t)}\\frac{dx}{x(1-x/K)}\n",
        "&=&\n",
        "rt\n",
        "\\\\\n",
        "\\int_{x(0)}^{x(t)}dx\\,\\frac{1}{x}+\\frac{1}{K-x}\n",
        "&=&\n",
        "rt\n",
        "\\\\\n",
        "\\ln(x(t))-\\ln(x(0))\n",
        "-\n",
        "\\ln(K-x(t))\n",
        "+\n",
        "\\ln(K-x(0))\n",
        "&=&\n",
        "rt\n",
        "\\\\\n",
        "\\ln\\frac{x(t)}{K-x(t)}\n",
        "&=&\n",
        "rt\n",
        "+\n",
        "\\ln\\frac{x(0)}{K-x(0)}\n",
        "\\\\\n",
        "\\frac{x(t)}{K-x(t)}\n",
        "&=&\n",
        "f(t)\n",
        "=\n",
        "\\frac{x(0)}{K-x(0)}e^{rt}\n",
        "\\\\\n",
        "x(t)\n",
        "&=&\n",
        "(K-x(t))f(t)\n",
        "\\\\\n",
        "x(t)(1+f(t))\n",
        "&=&\n",
        "Kf(t)\n",
        "\\\\\n",
        "x(t)\n",
        "&=&\n",
        "K\\frac{f(t)}{1+f(t)}\n",
        "=\n",
        "K\\frac{1}{1+\\frac{1}{f(t)}}\n",
        "\\\\\n",
        "x(t)\n",
        "&=&\n",
        "K\\left(1+\\frac{K-x(0)}{x(0)}e^{-rt}\\right)^{-1}\n",
        "\\end{eqnarray}\n",
        "\n",
        "**c)** Repita para $x(0)=1.5$."
      ],
      "metadata": {
        "id": "ELWhPITQXyQ8"
      }
    },
    {
      "cell_type": "code",
      "source": [],
      "metadata": {
        "id": "Ll9DEZWYy34c"
      },
      "execution_count": null,
      "outputs": []
    },
    {
      "cell_type": "markdown",
      "source": [
        "## **Ejercicio 6)** Oscilador armónico\n",
        "\n",
        "### Redución del orden de una ODE\n",
        "\n",
        "En general, una ODE tiene la siguiente forma\n",
        "\n",
        "\\begin{eqnarray}\n",
        "y^{(n)}(t) \n",
        "&=&\n",
        "f(y(t),y'(t),y''(t),...,y^{(n-1)}(t),t)\n",
        "\\;\\;\\;\\; (1)\n",
        "\\end{eqnarray}\n",
        "\n",
        "donde $y^{(i)}$ denota la $i$-ésima derivada de $y$ respecto a $t$.\n",
        "Dicha ODE es de dimensión $d$ si $x:\\mathbb{R}\\ni t\\to y(t)\\in \\mathbb{R}^d$.\n",
        "Además, se dice que es de orden $n$ porque involucra derivadas de $x$ de hasta orden $n$.\n",
        "\n",
        "Una ODE de orden $n$ y dimensión $d$ como la de la ecuación $(1)$ siempre puede reducirse a una ODE de primero orden y dimensión $nd$ utilizando la siguiente transformación\n",
        "\n",
        "\\begin{eqnarray}\n",
        "x_1:t\\to x_1(t) &:=& y(t) \\\\\n",
        "x_2:t\\to x_2(t) &:=& y'(t) \\\\\n",
        "x_3:t\\to x_3(t) &:=& y''(t) \\\\\n",
        "&...& \\\\\n",
        "x_n:t\\to x_n(t) &:=& y^{(n-1)}(t) \\\\\n",
        "x_n':t\\to x_n'(t) &=& y^{(n)}(t)\n",
        "\\end{eqnarray}\n",
        "\n",
        "de manera que la ecuación $(1)$ adopte la forma\n",
        "\n",
        "\\begin{eqnarray}\n",
        "x_{1}'(t) &=& x_2(t) \\\\\n",
        "x_{2}'(t) &=& x_3(t) \\\\\n",
        "&...& \\\\\n",
        "x_{n-1}'(t) &=& x_n(t) \\\\\n",
        "x_n'(t) &=& f(x_1(t),x_2(t),x_3(t),...,x_{n}(t),t)\n",
        "\\end{eqnarray}\n",
        "\n",
        "### El oscilador armónico\n",
        "\n",
        "El oscilador armónico viene descripto por la siguiente ecuación diferencial ordinaria (ODE)\n",
        "\n",
        "\\begin{eqnarray}\n",
        "y''(t) &=& -ay(t)\n",
        "\\end{eqnarray}\n",
        "\n",
        "Esta es una ODE de segundo orden, ya que aparece la derivada segunda de la función $x:t\\to x(t)$.\n",
        "La convertimos a una de primer orden definiendo $x_1=y$ y $x_2=y'$, obteniéndose\n",
        "\n",
        "\\begin{eqnarray}\n",
        "x_1'(t) &=& x_2(t) \\\\\n",
        "x_2'(t) &=& -\\alpha x_1(t)\n",
        "\\end{eqnarray}\n",
        "\n",
        "**a)** Utilice lo implementado en el ejecicio 2) para resolver en el intervalo de tiempo $[a,b]=[0,10]$ la ODE del oscilador armónico sujeto a las siguientes condiciones iniciales\n",
        "\n",
        "\\begin{eqnarray}\n",
        "y(a) &=& 1 \\\\\n",
        "y'(a) &=& 0\n",
        "\\end{eqnarray}\n",
        "\n",
        "para $\\alpha=3$ y usando un paso de integración $h=0.1$.\n",
        "\n",
        "**b)** Grafique $x_1(t)$ vs $t$ y $x_2(t)$ vs $t$. No olvide agregar leyendas a los ejes y las curvas.\n",
        "Use `np.scatter()` en vez de `np.plot()` para graficar usando puntos en vez de curvas.\n",
        "\n",
        "**c)** Grafique $x_2(t)$ vs $x_1(t)$ paramétricamente en función de $t$."
      ],
      "metadata": {
        "id": "avaxswLISMWi"
      }
    },
    {
      "cell_type": "markdown",
      "source": [
        "## Edit mio:\n",
        "\n",
        "\\begin{eqnarray}\n",
        "y''(t) &=& -ay(t)\n",
        "\\end{eqnarray}\n",
        "\n",
        "Es equivalente a:\n",
        "\\begin{align}\n",
        "y'=v \\\\\n",
        "v'=-\\alpha y \n",
        "\\end{align}\n",
        "\n",
        "\n",
        "\n"
      ],
      "metadata": {
        "id": "Vot1xMKoo28z"
      }
    },
    {
      "cell_type": "code",
      "source": [
        "def f(x,t,p):\n",
        "  y,v=x[0],x[1]\n",
        "  alpha=p[0]\n",
        "  return np.array([v,-alpha*y])\n",
        "h=0.1\n",
        "x0=[1,0]\n",
        "ta,tb=0,10\n",
        "k=100\n",
        "alpha=3\n",
        "p=np.array([alpha])\n",
        "\n",
        "t,sol=integrador_ode(euler,f,x0,ta,tb,k,p)\n",
        "\n",
        "\n",
        "\n",
        "plt.scatter(t,sol[0])\n",
        "plt.xlabel('t')\n",
        "plt.ylabel('y')\n",
        "\n",
        "plt.scatter(t,sol[1])\n",
        "plt.xlabel('t')\n",
        "plt.ylabel('$\\dot{y}$')\n",
        "plt.show()\n",
        "\n",
        "plt.plot(sol[0],sol[1])\n",
        "plt.xlabel('y')\n",
        "plt.ylabel('$\\dot{y}$')\n",
        "plt.show()"
      ],
      "metadata": {
        "id": "xAm0yWz3y62T",
        "colab": {
          "base_uri": "https://localhost:8080/",
          "height": 543
        },
        "outputId": "05db8603-f73d-4c29-bee0-7dd160d11dcf"
      },
      "execution_count": null,
      "outputs": [
        {
          "output_type": "display_data",
          "data": {
            "text/plain": [
              "<Figure size 432x288 with 1 Axes>"
            ],
            "image/png": "[encoded data removed]"
          },
          "metadata": {
            "needs_background": "light"
          }
        },
        {
          "output_type": "display_data",
          "data": {
            "text/plain": [
              "<Figure size 432x288 with 1 Axes>"
            ],
            "image/png": "[encoded data removed]"
          },
          "metadata": {
            "needs_background": "light"
          }
        }
      ]
    },
    {
      "cell_type": "markdown",
      "source": [
        "## **Ejercicio 7)** Integrador de **RK4**\n",
        "\n",
        "El método de Runge-Kutta de orden 4 utiliza la teoría de diferencias finitas para calcular la siguiente aproximación de orden 4ta de un paso de integración\n",
        "\n",
        "A saber\n",
        "\\begin{eqnarray}\n",
        "x(t+h)\n",
        "&=&\n",
        "x(t) \n",
        "+ \n",
        "\\frac{h}{6}\n",
        "(k_1+2k_2+2k_3+k_4)\n",
        "+\n",
        "\\mathcal{O}(h^5)\n",
        "\\end{eqnarray}\n",
        "\n",
        "donde\n",
        "\n",
        "\\begin{eqnarray}\n",
        "k_1 &=& f(x,t) \\\\\n",
        "k_2 &=& f(x+hk_1/2,t+h/2) \\\\\n",
        "k_3 &=& f(x+hk_2/2,t+h/2) \\\\\n",
        "k_4 &=& f(x+hk_3,t+h)\n",
        "\\end{eqnarray}\n",
        "\n",
        "**a)** Implemente el método de RK4.\n",
        "\n",
        "**b)** Repita el ejercicio **6)** pero usando **RK4** en vez de **Euler**.\n",
        "\n",
        "**c)** Nota alguna diferencia al comparar la solución obtenida con Euler y la solución obtenida con RK4?"
      ],
      "metadata": {
        "id": "M1ijOC6_ILf-"
      }
    },
    {
      "cell_type": "code",
      "source": [
        "def rk4(f,x,t,h,p):\n",
        "  k1=f(x,t,p)\n",
        "  k2=f(x+h*k1/2,t+h/2,p)\n",
        "  k3=f(x+h*k2/2,t+h/2,p)\n",
        "  k4=f(x+h*k3,t+h,p)\n",
        "  return x+ (h/6)*(k1+2*k2+2*k3+k4)\n",
        "\n",
        "h=0.01\n",
        "x0=[1,0]\n",
        "ta,tb=0,10\n",
        "k=250\n",
        "alpha=3\n",
        "p=np.array([alpha])\n",
        "t,sol=integrador_ode(euler,f,x0,ta,tb,k,p)\n",
        "t,solrk4=integrador_ode(rk4,f,x0,ta,tb,k,p)\n",
        "\n",
        "plt.scatter(t,sol[0],color='r')\n",
        "plt.scatter(t,solrk4[0],color='b')\n",
        "plt.xlabel('t')\n",
        "plt.ylabel('y')\n",
        "plt.show()\n",
        "\n",
        "plt.scatter(t,sol[1],color='r')\n",
        "plt.scatter(t,solrk4[1],color='b')\n",
        "plt.xlabel('t')\n",
        "plt.ylabel('$\\dot{y}$')\n",
        "plt.show()\n",
        "\n",
        "plt.plot(sol[0],sol[1],color='r')\n",
        "plt.plot(solrk4[0],solrk4[1],color='b')\n",
        "plt.xlabel('y')\n",
        "plt.ylabel('$\\dot{y}$')\n",
        "plt.show()\n",
        "\n"
      ],
      "metadata": {
        "id": "rtamDkDZy-lC",
        "colab": {
          "base_uri": "https://localhost:8080/",
          "height": 803
        },
        "outputId": "39666e2f-dd80-4f3b-e2e2-9a58144544cd"
      },
      "execution_count": null,
      "outputs": [
        {
          "output_type": "display_data",
          "data": {
            "text/plain": [
              "<Figure size 432x288 with 1 Axes>"
            ],
            "image/png": "[encoded data removed]"
          },
          "metadata": {
            "needs_background": "light"
          }
        },
        {
          "output_type": "display_data",
          "data": {
            "text/plain": [
              "<Figure size 432x288 with 1 Axes>"
            ],
            "image/png": "[encoded data removed]"
          },
          "metadata": {
            "needs_background": "light"
          }
        },
        {
          "output_type": "display_data",
          "data": {
            "text/plain": [
              "<Figure size 432x288 with 1 Axes>"
            ],
            "image/png": "[encoded data removed]"
          },
          "metadata": {
            "needs_background": "light"
          }
        }
      ]
    },
    {
      "cell_type": "markdown",
      "source": [
        "## **Ejercicio 8)** Creando una \"libreria\" de integradores ODE\n",
        "\n",
        "**a)** Exporte el actual notebook `redes-neuronales-2022-practico-4.ipynb` a `ode.py`.\n",
        "\n",
        "**b)** Con su editor de texto favorito, elimine todo lo que sobra de `ode.py`. Deje, solamente, el código que:\n",
        "\n",
        "* importa `numpy`.\n",
        "\n",
        "* define la funcion `euler`.\n",
        "\n",
        "* define la funcion `rk4`.\n",
        "\n",
        "* define la funcion `integrador_ode`.\n",
        "\n",
        "**c)** En google colab, suba el archiv `ode.py` anteriormente credo.\n",
        "\n",
        "**d)** Importe la \"libreria\" `ode` escribiendo\n",
        "\n",
        "    import ode\n",
        "\n",
        "**e)** Pruebe la libreria `ode` escribiendo\n",
        "\n",
        "    t,x = ode.integrador_ode(ode.rk4,f,xa,a,b,k,p)"
      ],
      "metadata": {
        "id": "6aJZWisYQUfg"
      }
    },
    {
      "cell_type": "code",
      "source": [
        "import ode\n",
        "\n",
        "t,x = ode.integrador_ode(ode.rk4,f,x0,ta,tb,k,p)"
      ],
      "metadata": {
        "id": "TzhICKi3zBFa"
      },
      "execution_count": 94,
      "outputs": []
    }
  ]
}